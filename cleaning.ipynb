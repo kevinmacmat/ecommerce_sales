{
 "cells": [
  {
   "cell_type": "markdown",
   "metadata": {},
   "source": [
    "## Column Descriptions\n",
    "**event_time:** Time when event happened at (in UTC).\n",
    "\n",
    "**event_type:** Events can be:<br>\n",
    "$\\;\\;\\;\\;\\;\\;$<font color='blue'>view</font> - a user viewed a product<br>\n",
    "$\\;\\;\\;\\;\\;\\;$<font color='blue'>cart</font> - a user added a product to shopping cart<br>\n",
    "$\\;\\;\\;\\;\\;\\;$<font color='blue'>removefromcart</font> - a user removed a product from shopping cart<br>\n",
    "$\\;\\;\\;\\;\\;\\;$<font color='blue'>purchase</font> - a user purchased a product<br>\n",
    "\n",
    "$\\;\\;\\;\\;\\;\\;$Typical funnel: view => cart => purchase.\n",
    "\n",
    "**product_id:** ID of a product\n",
    "\n",
    "**category_id:** Product's category ID\n",
    "\n",
    "**category_code:** Product's category taxonomy (code name) if it was possible to make it. Usually present for meaningful categories and skipped for different kinds of accessories.\n",
    "\n",
    "**brand** Downcased string of brand name. Can be missed.\n",
    "\n",
    "**price** Float price of a product. Present.\n",
    "\n",
    "**user_id** Permanent user ID.\n",
    "\n",
    "**user_session** Temporary user's session ID. Same for each user's session. Is changed every time user come back to online store from a long pause."
   ]
  },
  {
   "cell_type": "markdown",
   "metadata": {},
   "source": [
    "## Basic Info\n",
    "**Rows:** 67,501,979<br>\n",
    "**Columns:** 9<br>\n",
    "<br>\n",
    "**event_time:**        object<br>\n",
    "**event_type:**        object<br>\n",
    "**product_id:**         int64<br>\n",
    "**category_id:**        int64<br>\n",
    "**category_code:**     object<br>\n",
    "**brand:**             object<br>\n",
    "**price:**            float64<br>\n",
    "**user_id:**            int64<br>\n",
    "**user_session:**      object<br>"
   ]
  },
  {
   "cell_type": "code",
   "execution_count": 1,
   "metadata": {},
   "outputs": [],
   "source": [
    "import pandas as pd\n",
    "import numpy as np\n",
    "import functions"
   ]
  },
  {
   "cell_type": "code",
   "execution_count": 2,
   "metadata": {},
   "outputs": [],
   "source": [
    "df_nov = pd.read_csv('2019-Nov.csv', parse_dates=['event_time'])\n",
    "df_oct = pd.read_csv('2019-Oct.csv', parse_dates=['event_time'])"
   ]
  },
  {
   "cell_type": "code",
   "execution_count": 3,
   "metadata": {},
   "outputs": [
    {
     "name": "stdout",
     "output_type": "stream",
     "text": [
      "<class 'pandas.core.frame.DataFrame'>\n",
      "RangeIndex: 42448764 entries, 0 to 42448763\n",
      "Data columns (total 9 columns):\n",
      " #   Column         Dtype              \n",
      "---  ------         -----              \n",
      " 0   event_time     datetime64[ns, UTC]\n",
      " 1   event_type     object             \n",
      " 2   product_id     int64              \n",
      " 3   category_id    int64              \n",
      " 4   category_code  object             \n",
      " 5   brand          object             \n",
      " 6   price          float64            \n",
      " 7   user_id        int64              \n",
      " 8   user_session   object             \n",
      "dtypes: datetime64[ns, UTC](1), float64(1), int64(3), object(4)\n",
      "memory usage: 2.8+ GB\n",
      "None\n",
      "----------------------------------------------------------------------------------------------------\n",
      "<class 'pandas.core.frame.DataFrame'>\n",
      "RangeIndex: 67501979 entries, 0 to 67501978\n",
      "Data columns (total 9 columns):\n",
      " #   Column         Dtype              \n",
      "---  ------         -----              \n",
      " 0   event_time     datetime64[ns, UTC]\n",
      " 1   event_type     object             \n",
      " 2   product_id     int64              \n",
      " 3   category_id    int64              \n",
      " 4   category_code  object             \n",
      " 5   brand          object             \n",
      " 6   price          float64            \n",
      " 7   user_id        int64              \n",
      " 8   user_session   object             \n",
      "dtypes: datetime64[ns, UTC](1), float64(1), int64(3), object(4)\n",
      "memory usage: 4.5+ GB\n",
      "None\n"
     ]
    }
   ],
   "source": [
    "print(df_oct.info())\n",
    "print('-'*100)\n",
    "print(df_nov.info())"
   ]
  },
  {
   "cell_type": "code",
   "execution_count": 4,
   "metadata": {},
   "outputs": [
    {
     "name": "stdout",
     "output_type": "stream",
     "text": [
      "NOVEMBER SALES\n",
      "         product_id   category_id         price       user_id\n",
      "count  6.750198e+07  6.750198e+07  6.750198e+07  6.750198e+07\n",
      "mean   1.251406e+07  2.057898e+18  2.924593e+02  5.386397e+08\n",
      "std    1.725741e+07  2.012549e+16  3.556745e+02  2.288516e+07\n",
      "min    1.000365e+06  2.053014e+18  0.000000e+00  1.030022e+07\n",
      "25%    1.305977e+06  2.053014e+18  6.924000e+01  5.164762e+08\n",
      "50%    5.100568e+06  2.053014e+18  1.657700e+02  5.350573e+08\n",
      "75%    1.730075e+07  2.053014e+18  3.603400e+02  5.610794e+08\n",
      "max    1.000286e+08  2.187708e+18  2.574070e+03  5.799699e+08\n",
      "\n",
      "OCTOBER SALES\n",
      "         product_id   category_id         price       user_id\n",
      "count  4.244876e+07  4.244876e+07  4.244876e+07  4.244876e+07\n",
      "mean   1.054993e+07  2.057404e+18  2.903237e+02  5.335371e+08\n",
      "std    1.188191e+07  1.843926e+16  3.582692e+02  1.852374e+07\n",
      "min    1.000978e+06  2.053014e+18  0.000000e+00  3.386938e+07\n",
      "25%    1.005157e+06  2.053014e+18  6.598000e+01  5.159043e+08\n",
      "50%    5.000470e+06  2.053014e+18  1.629300e+02  5.296965e+08\n",
      "75%    1.600030e+07  2.053014e+18  3.585700e+02  5.515788e+08\n",
      "max    6.050001e+07  2.175420e+18  2.574070e+03  5.662809e+08\n",
      "\n"
     ]
    }
   ],
   "source": [
    "print('{}\\n{}\\n'.format('NOVEMBER SALES', df_nov.describe()))\n",
    "print('{}\\n{}\\n'.format('OCTOBER SALES', df_oct.describe()))"
   ]
  },
  {
   "cell_type": "code",
   "execution_count": 8,
   "metadata": {},
   "outputs": [
    {
     "ename": "KeyError",
     "evalue": "\"None of [Index([          nan,  'appliances',   'furniture',   'computers',\\n       'electronics',   'computers',           nan,           nan,\\n           'apparel', 'electronics',\\n       ...\\n           'apparel',           nan,           nan, 'electronics',\\n        'appliances', 'electronics',           nan,        'auto',\\n       'electronics',           nan],\\n      dtype='object', length=42412522)] are in the [columns]\"",
     "output_type": "error",
     "traceback": [
      "\u001b[0;31m---------------------------------------------------------------------------\u001b[0m",
      "\u001b[0;31mKeyError\u001b[0m                                  Traceback (most recent call last)",
      "\u001b[0;32m<ipython-input-8-34e52bca736b>\u001b[0m in \u001b[0;36m<module>\u001b[0;34m\u001b[0m\n\u001b[0;32m----> 1\u001b[0;31m \u001b[0mfunctions\u001b[0m\u001b[0;34m.\u001b[0m\u001b[0msplit_categories\u001b[0m\u001b[0;34m(\u001b[0m\u001b[0mdf_oct\u001b[0m\u001b[0;34m,\u001b[0m \u001b[0mdf_oct\u001b[0m\u001b[0;34m.\u001b[0m\u001b[0mcategory_code\u001b[0m\u001b[0;34m)\u001b[0m\u001b[0;34m\u001b[0m\u001b[0;34m\u001b[0m\u001b[0m\n\u001b[0m",
      "\u001b[0;32m~/Desktop/practice_sales_data/functions.py\u001b[0m in \u001b[0;36msplit_categories\u001b[0;34m(dataframe, column)\u001b[0m\n\u001b[1;32m     28\u001b[0m             \u001b[0mcategory_3\u001b[0m\u001b[0;34m.\u001b[0m\u001b[0mappend\u001b[0m\u001b[0;34m(\u001b[0m\u001b[0msplit\u001b[0m\u001b[0;34m[\u001b[0m\u001b[0;36m2\u001b[0m\u001b[0;34m]\u001b[0m\u001b[0;34m)\u001b[0m\u001b[0;34m\u001b[0m\u001b[0;34m\u001b[0m\u001b[0m\n\u001b[1;32m     29\u001b[0m \u001b[0;34m\u001b[0m\u001b[0m\n\u001b[0;32m---> 30\u001b[0;31m     \u001b[0mprint\u001b[0m\u001b[0;34m(\u001b[0m\u001b[0mcategory_1\u001b[0m\u001b[0;34m)\u001b[0m\u001b[0;34m\u001b[0m\u001b[0;34m\u001b[0m\u001b[0m\n\u001b[0m\u001b[1;32m     31\u001b[0m     \u001b[0mprint\u001b[0m\u001b[0;34m(\u001b[0m\u001b[0mcategory_2\u001b[0m\u001b[0;34m)\u001b[0m\u001b[0;34m\u001b[0m\u001b[0;34m\u001b[0m\u001b[0m\n\u001b[1;32m     32\u001b[0m     \u001b[0mprint\u001b[0m\u001b[0;34m(\u001b[0m\u001b[0mcategory_3\u001b[0m\u001b[0;34m)\u001b[0m\u001b[0;34m\u001b[0m\u001b[0;34m\u001b[0m\u001b[0m\n",
      "\u001b[0;32m~/.local/lib/python3.7/site-packages/pandas/core/frame.py\u001b[0m in \u001b[0;36m__getitem__\u001b[0;34m(self, key)\u001b[0m\n\u001b[1;32m   2804\u001b[0m             \u001b[0;32mif\u001b[0m \u001b[0mis_iterator\u001b[0m\u001b[0;34m(\u001b[0m\u001b[0mkey\u001b[0m\u001b[0;34m)\u001b[0m\u001b[0;34m:\u001b[0m\u001b[0;34m\u001b[0m\u001b[0;34m\u001b[0m\u001b[0m\n\u001b[1;32m   2805\u001b[0m                 \u001b[0mkey\u001b[0m \u001b[0;34m=\u001b[0m \u001b[0mlist\u001b[0m\u001b[0;34m(\u001b[0m\u001b[0mkey\u001b[0m\u001b[0;34m)\u001b[0m\u001b[0;34m\u001b[0m\u001b[0;34m\u001b[0m\u001b[0m\n\u001b[0;32m-> 2806\u001b[0;31m             \u001b[0mindexer\u001b[0m \u001b[0;34m=\u001b[0m \u001b[0mself\u001b[0m\u001b[0;34m.\u001b[0m\u001b[0mloc\u001b[0m\u001b[0;34m.\u001b[0m\u001b[0m_get_listlike_indexer\u001b[0m\u001b[0;34m(\u001b[0m\u001b[0mkey\u001b[0m\u001b[0;34m,\u001b[0m \u001b[0maxis\u001b[0m\u001b[0;34m=\u001b[0m\u001b[0;36m1\u001b[0m\u001b[0;34m,\u001b[0m \u001b[0mraise_missing\u001b[0m\u001b[0;34m=\u001b[0m\u001b[0;32mTrue\u001b[0m\u001b[0;34m)\u001b[0m\u001b[0;34m[\u001b[0m\u001b[0;36m1\u001b[0m\u001b[0;34m]\u001b[0m\u001b[0;34m\u001b[0m\u001b[0;34m\u001b[0m\u001b[0m\n\u001b[0m\u001b[1;32m   2807\u001b[0m \u001b[0;34m\u001b[0m\u001b[0m\n\u001b[1;32m   2808\u001b[0m         \u001b[0;31m# take() does not accept boolean indexers\u001b[0m\u001b[0;34m\u001b[0m\u001b[0;34m\u001b[0m\u001b[0;34m\u001b[0m\u001b[0m\n",
      "\u001b[0;32m~/.local/lib/python3.7/site-packages/pandas/core/indexing.py\u001b[0m in \u001b[0;36m_get_listlike_indexer\u001b[0;34m(self, key, axis, raise_missing)\u001b[0m\n\u001b[1;32m   1551\u001b[0m \u001b[0;34m\u001b[0m\u001b[0m\n\u001b[1;32m   1552\u001b[0m         self._validate_read_indexer(\n\u001b[0;32m-> 1553\u001b[0;31m             \u001b[0mkeyarr\u001b[0m\u001b[0;34m,\u001b[0m \u001b[0mindexer\u001b[0m\u001b[0;34m,\u001b[0m \u001b[0mo\u001b[0m\u001b[0;34m.\u001b[0m\u001b[0m_get_axis_number\u001b[0m\u001b[0;34m(\u001b[0m\u001b[0maxis\u001b[0m\u001b[0;34m)\u001b[0m\u001b[0;34m,\u001b[0m \u001b[0mraise_missing\u001b[0m\u001b[0;34m=\u001b[0m\u001b[0mraise_missing\u001b[0m\u001b[0;34m\u001b[0m\u001b[0;34m\u001b[0m\u001b[0m\n\u001b[0m\u001b[1;32m   1554\u001b[0m         )\n\u001b[1;32m   1555\u001b[0m         \u001b[0;32mreturn\u001b[0m \u001b[0mkeyarr\u001b[0m\u001b[0;34m,\u001b[0m \u001b[0mindexer\u001b[0m\u001b[0;34m\u001b[0m\u001b[0;34m\u001b[0m\u001b[0m\n",
      "\u001b[0;32m~/.local/lib/python3.7/site-packages/pandas/core/indexing.py\u001b[0m in \u001b[0;36m_validate_read_indexer\u001b[0;34m(self, key, indexer, axis, raise_missing)\u001b[0m\n\u001b[1;32m   1638\u001b[0m             \u001b[0;32mif\u001b[0m \u001b[0mmissing\u001b[0m \u001b[0;34m==\u001b[0m \u001b[0mlen\u001b[0m\u001b[0;34m(\u001b[0m\u001b[0mindexer\u001b[0m\u001b[0;34m)\u001b[0m\u001b[0;34m:\u001b[0m\u001b[0;34m\u001b[0m\u001b[0;34m\u001b[0m\u001b[0m\n\u001b[1;32m   1639\u001b[0m                 \u001b[0maxis_name\u001b[0m \u001b[0;34m=\u001b[0m \u001b[0mself\u001b[0m\u001b[0;34m.\u001b[0m\u001b[0mobj\u001b[0m\u001b[0;34m.\u001b[0m\u001b[0m_get_axis_name\u001b[0m\u001b[0;34m(\u001b[0m\u001b[0maxis\u001b[0m\u001b[0;34m)\u001b[0m\u001b[0;34m\u001b[0m\u001b[0;34m\u001b[0m\u001b[0m\n\u001b[0;32m-> 1640\u001b[0;31m                 \u001b[0;32mraise\u001b[0m \u001b[0mKeyError\u001b[0m\u001b[0;34m(\u001b[0m\u001b[0;34mf\"None of [{key}] are in the [{axis_name}]\"\u001b[0m\u001b[0;34m)\u001b[0m\u001b[0;34m\u001b[0m\u001b[0;34m\u001b[0m\u001b[0m\n\u001b[0m\u001b[1;32m   1641\u001b[0m \u001b[0;34m\u001b[0m\u001b[0m\n\u001b[1;32m   1642\u001b[0m             \u001b[0;31m# We (temporarily) allow for some missing keys with .loc, except in\u001b[0m\u001b[0;34m\u001b[0m\u001b[0;34m\u001b[0m\u001b[0;34m\u001b[0m\u001b[0m\n",
      "\u001b[0;31mKeyError\u001b[0m: \"None of [Index([          nan,  'appliances',   'furniture',   'computers',\\n       'electronics',   'computers',           nan,           nan,\\n           'apparel', 'electronics',\\n       ...\\n           'apparel',           nan,           nan, 'electronics',\\n        'appliances', 'electronics',           nan,        'auto',\\n       'electronics',           nan],\\n      dtype='object', length=42412522)] are in the [columns]\""
     ]
    }
   ],
   "source": [
    "functions.split_categories(df_oct, df_oct.category_code)"
   ]
  },
  {
   "cell_type": "code",
   "execution_count": 9,
   "metadata": {},
   "outputs": [
    {
     "ename": "KeyError",
     "evalue": "\"None of [Index([          nan,  'appliances',   'furniture',   'computers',\\n       'electronics',   'computers',           nan,           nan,\\n           'apparel', 'electronics',\\n       ...\\n           'apparel',           nan,           nan, 'electronics',\\n        'appliances', 'electronics',           nan,        'auto',\\n       'electronics',           nan],\\n      dtype='object', length=42412522)] are in the [columns]\"",
     "output_type": "error",
     "traceback": [
      "\u001b[0;31m---------------------------------------------------------------------------\u001b[0m",
      "\u001b[0;31mKeyError\u001b[0m                                  Traceback (most recent call last)",
      "\u001b[0;32m<ipython-input-9-f00743ef518a>\u001b[0m in \u001b[0;36m<module>\u001b[0;34m\u001b[0m\n\u001b[1;32m     26\u001b[0m         \u001b[0mcategory_3\u001b[0m\u001b[0;34m.\u001b[0m\u001b[0mappend\u001b[0m\u001b[0;34m(\u001b[0m\u001b[0msplit\u001b[0m\u001b[0;34m[\u001b[0m\u001b[0;36m2\u001b[0m\u001b[0;34m]\u001b[0m\u001b[0;34m)\u001b[0m\u001b[0;34m\u001b[0m\u001b[0;34m\u001b[0m\u001b[0m\n\u001b[1;32m     27\u001b[0m \u001b[0;34m\u001b[0m\u001b[0m\n\u001b[0;32m---> 28\u001b[0;31m \u001b[0mdf_oct\u001b[0m\u001b[0;34m[\u001b[0m\u001b[0;34m'category_1'\u001b[0m\u001b[0;34m]\u001b[0m \u001b[0;34m=\u001b[0m \u001b[0mdf_oct\u001b[0m\u001b[0;34m[\u001b[0m\u001b[0mcategory_1\u001b[0m\u001b[0;34m]\u001b[0m\u001b[0;34m\u001b[0m\u001b[0;34m\u001b[0m\u001b[0m\n\u001b[0m\u001b[1;32m     29\u001b[0m \u001b[0mdf_oct\u001b[0m\u001b[0;34m[\u001b[0m\u001b[0;34m'category_2'\u001b[0m\u001b[0;34m]\u001b[0m \u001b[0;34m=\u001b[0m \u001b[0mdf_oct\u001b[0m\u001b[0;34m[\u001b[0m\u001b[0mcategory_2\u001b[0m\u001b[0;34m]\u001b[0m\u001b[0;34m\u001b[0m\u001b[0;34m\u001b[0m\u001b[0m\n\u001b[1;32m     30\u001b[0m \u001b[0mdf_oct\u001b[0m\u001b[0;34m[\u001b[0m\u001b[0;34m'category_3'\u001b[0m\u001b[0;34m]\u001b[0m \u001b[0;34m=\u001b[0m \u001b[0mdf_oct\u001b[0m\u001b[0;34m[\u001b[0m\u001b[0mcategory_3\u001b[0m\u001b[0;34m]\u001b[0m\u001b[0;34m\u001b[0m\u001b[0;34m\u001b[0m\u001b[0m\n",
      "\u001b[0;32m~/.local/lib/python3.7/site-packages/pandas/core/frame.py\u001b[0m in \u001b[0;36m__getitem__\u001b[0;34m(self, key)\u001b[0m\n\u001b[1;32m   2804\u001b[0m             \u001b[0;32mif\u001b[0m \u001b[0mis_iterator\u001b[0m\u001b[0;34m(\u001b[0m\u001b[0mkey\u001b[0m\u001b[0;34m)\u001b[0m\u001b[0;34m:\u001b[0m\u001b[0;34m\u001b[0m\u001b[0;34m\u001b[0m\u001b[0m\n\u001b[1;32m   2805\u001b[0m                 \u001b[0mkey\u001b[0m \u001b[0;34m=\u001b[0m \u001b[0mlist\u001b[0m\u001b[0;34m(\u001b[0m\u001b[0mkey\u001b[0m\u001b[0;34m)\u001b[0m\u001b[0;34m\u001b[0m\u001b[0;34m\u001b[0m\u001b[0m\n\u001b[0;32m-> 2806\u001b[0;31m             \u001b[0mindexer\u001b[0m \u001b[0;34m=\u001b[0m \u001b[0mself\u001b[0m\u001b[0;34m.\u001b[0m\u001b[0mloc\u001b[0m\u001b[0;34m.\u001b[0m\u001b[0m_get_listlike_indexer\u001b[0m\u001b[0;34m(\u001b[0m\u001b[0mkey\u001b[0m\u001b[0;34m,\u001b[0m \u001b[0maxis\u001b[0m\u001b[0;34m=\u001b[0m\u001b[0;36m1\u001b[0m\u001b[0;34m,\u001b[0m \u001b[0mraise_missing\u001b[0m\u001b[0;34m=\u001b[0m\u001b[0;32mTrue\u001b[0m\u001b[0;34m)\u001b[0m\u001b[0;34m[\u001b[0m\u001b[0;36m1\u001b[0m\u001b[0;34m]\u001b[0m\u001b[0;34m\u001b[0m\u001b[0;34m\u001b[0m\u001b[0m\n\u001b[0m\u001b[1;32m   2807\u001b[0m \u001b[0;34m\u001b[0m\u001b[0m\n\u001b[1;32m   2808\u001b[0m         \u001b[0;31m# take() does not accept boolean indexers\u001b[0m\u001b[0;34m\u001b[0m\u001b[0;34m\u001b[0m\u001b[0;34m\u001b[0m\u001b[0m\n",
      "\u001b[0;32m~/.local/lib/python3.7/site-packages/pandas/core/indexing.py\u001b[0m in \u001b[0;36m_get_listlike_indexer\u001b[0;34m(self, key, axis, raise_missing)\u001b[0m\n\u001b[1;32m   1551\u001b[0m \u001b[0;34m\u001b[0m\u001b[0m\n\u001b[1;32m   1552\u001b[0m         self._validate_read_indexer(\n\u001b[0;32m-> 1553\u001b[0;31m             \u001b[0mkeyarr\u001b[0m\u001b[0;34m,\u001b[0m \u001b[0mindexer\u001b[0m\u001b[0;34m,\u001b[0m \u001b[0mo\u001b[0m\u001b[0;34m.\u001b[0m\u001b[0m_get_axis_number\u001b[0m\u001b[0;34m(\u001b[0m\u001b[0maxis\u001b[0m\u001b[0;34m)\u001b[0m\u001b[0;34m,\u001b[0m \u001b[0mraise_missing\u001b[0m\u001b[0;34m=\u001b[0m\u001b[0mraise_missing\u001b[0m\u001b[0;34m\u001b[0m\u001b[0;34m\u001b[0m\u001b[0m\n\u001b[0m\u001b[1;32m   1554\u001b[0m         )\n\u001b[1;32m   1555\u001b[0m         \u001b[0;32mreturn\u001b[0m \u001b[0mkeyarr\u001b[0m\u001b[0;34m,\u001b[0m \u001b[0mindexer\u001b[0m\u001b[0;34m\u001b[0m\u001b[0;34m\u001b[0m\u001b[0m\n",
      "\u001b[0;32m~/.local/lib/python3.7/site-packages/pandas/core/indexing.py\u001b[0m in \u001b[0;36m_validate_read_indexer\u001b[0;34m(self, key, indexer, axis, raise_missing)\u001b[0m\n\u001b[1;32m   1638\u001b[0m             \u001b[0;32mif\u001b[0m \u001b[0mmissing\u001b[0m \u001b[0;34m==\u001b[0m \u001b[0mlen\u001b[0m\u001b[0;34m(\u001b[0m\u001b[0mindexer\u001b[0m\u001b[0;34m)\u001b[0m\u001b[0;34m:\u001b[0m\u001b[0;34m\u001b[0m\u001b[0;34m\u001b[0m\u001b[0m\n\u001b[1;32m   1639\u001b[0m                 \u001b[0maxis_name\u001b[0m \u001b[0;34m=\u001b[0m \u001b[0mself\u001b[0m\u001b[0;34m.\u001b[0m\u001b[0mobj\u001b[0m\u001b[0;34m.\u001b[0m\u001b[0m_get_axis_name\u001b[0m\u001b[0;34m(\u001b[0m\u001b[0maxis\u001b[0m\u001b[0;34m)\u001b[0m\u001b[0;34m\u001b[0m\u001b[0;34m\u001b[0m\u001b[0m\n\u001b[0;32m-> 1640\u001b[0;31m                 \u001b[0;32mraise\u001b[0m \u001b[0mKeyError\u001b[0m\u001b[0;34m(\u001b[0m\u001b[0;34mf\"None of [{key}] are in the [{axis_name}]\"\u001b[0m\u001b[0;34m)\u001b[0m\u001b[0;34m\u001b[0m\u001b[0;34m\u001b[0m\u001b[0m\n\u001b[0m\u001b[1;32m   1641\u001b[0m \u001b[0;34m\u001b[0m\u001b[0m\n\u001b[1;32m   1642\u001b[0m             \u001b[0;31m# We (temporarily) allow for some missing keys with .loc, except in\u001b[0m\u001b[0;34m\u001b[0m\u001b[0;34m\u001b[0m\u001b[0;34m\u001b[0m\u001b[0m\n",
      "\u001b[0;31mKeyError\u001b[0m: \"None of [Index([          nan,  'appliances',   'furniture',   'computers',\\n       'electronics',   'computers',           nan,           nan,\\n           'apparel', 'electronics',\\n       ...\\n           'apparel',           nan,           nan, 'electronics',\\n        'appliances', 'electronics',           nan,        'auto',\\n       'electronics',           nan],\\n      dtype='object', length=42412522)] are in the [columns]\""
     ]
    }
   ],
   "source": [
    "category_1 = []\n",
    "category_2 = []\n",
    "category_3 = []\n",
    "\n",
    "for x in df_oct.category_code:\n",
    "    # if not a string then appends nan to all categories\n",
    "    if type(x) != str:\n",
    "        category_1.append(float('NaN'))\n",
    "        category_2.append(float('NaN'))\n",
    "        category_3.append(float('NaN'))\n",
    "        continue\n",
    "        # appends to appropriate list and fills \n",
    "        # nan for remaining categories\n",
    "    split = x.split('.')\n",
    "    if len(split) == 1:\n",
    "        category_1.append(split[0])\n",
    "        category_2.append(float('NaN'))\n",
    "        category_3.append(float('NaN'))\n",
    "    elif len(split) == 2:\n",
    "        category_1.append(split[0])\n",
    "        category_2.append(split[1])\n",
    "        category_3.append(float('NaN'))\n",
    "    elif len(split) == 3:\n",
    "        category_1.append(split[0])\n",
    "        category_2.append(split[1])\n",
    "        category_3.append(split[2])\n",
    "\n",
    "df_oct['category_1'] = df_oct[category_1]\n",
    "df_oct['category_2'] = df_oct[category_2]\n",
    "df_oct['category_3'] = df_oct[category_3]"
   ]
  },
  {
   "cell_type": "code",
   "execution_count": null,
   "metadata": {},
   "outputs": [],
   "source": [
    "# splits up categories by their sublevels into separate columns\n",
    "category_1 = []\n",
    "category_2 = []\n",
    "category_3 = []\n",
    "\n",
    "for x in df.category_code:\n",
    "    # if nan then appends nan to all categories\n",
    "    if type(x) == float:\n",
    "        category_1.append(np.nan)\n",
    "        category_2.append(np.nan)\n",
    "        category_3.append(np.nan)\n",
    "        continue\n",
    "    # appends to appropriate list and fills \n",
    "    # nan for remaining categories\n",
    "    split = x.split('.')\n",
    "    if len(split) == 1:\n",
    "        category_1.append(split[0])\n",
    "        category_2.append(np.nan)\n",
    "        category_3.append(np.nan)\n",
    "    elif len(split) == 2:\n",
    "        category_1.append(split[0])\n",
    "        category_2.append(split[1])\n",
    "        category_3.append(np.nan)\n",
    "    elif len(split) == 3:\n",
    "        category_1.append(split[0])\n",
    "        category_2.append(split[1])\n",
    "        category_3.append(split[2])\n",
    "\n",
    "df['category_1'] = df[category_1]\n",
    "df['category_2'] = df[category_2]\n",
    "df['category_3'] = df[category_3]"
   ]
  }
 ],
 "metadata": {
  "kernelspec": {
   "display_name": "Python 3",
   "language": "python",
   "name": "python3"
  },
  "language_info": {
   "codemirror_mode": {
    "name": "ipython",
    "version": 3
   },
   "file_extension": ".py",
   "mimetype": "text/x-python",
   "name": "python",
   "nbconvert_exporter": "python",
   "pygments_lexer": "ipython3",
   "version": "3.7.6"
  }
 },
 "nbformat": 4,
 "nbformat_minor": 4
}
